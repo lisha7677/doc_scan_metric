{
 "cells": [
  {
   "cell_type": "code",
   "execution_count": 1,
   "metadata": {
    "scrolled": true
   },
   "outputs": [],
   "source": [
    "import json\n",
    "import pandas as pd\n",
    "from pandas.io.json import json_normalize #package for flattening json in pandas df\n",
    "import numpy as np\n",
    "from sklearn.model_selection import train_test_split\n",
    "from sklearn.preprocessing import StandardScaler\n",
    "from sklearn.model_selection import GridSearchCV\n",
    "from sklearn.metrics import roc_auc_score\n",
    "from sklearn.metrics import roc_curve, auc\n",
    "with open('/Users/Capti/Downloads/data_science_projects/doc_scan/small3.json',encoding='utf-8') as d:\n",
    "    f=json.load(d)\n",
    "data=json_normalize(f)"
   ]
  },
  {
   "cell_type": "code",
   "execution_count": 12,
   "metadata": {},
   "outputs": [
    {
     "data": {
      "text/plain": [
       "1        4304\n",
       "16384    4041\n",
       "8        1609\n",
       "16393      46\n",
       "Name: scenarioBit, dtype: int64"
      ]
     },
     "execution_count": 12,
     "metadata": {},
     "output_type": "execute_result"
    }
   ],
   "source": [
    "data.scenarioBit.value_counts()"
   ]
  },
  {
   "cell_type": "code",
   "execution_count": 3,
   "metadata": {},
   "outputs": [],
   "source": [
    "begin=pd.to_datetime(data.beginTime, utc=True)\n",
    "end=pd.to_datetime(data.endTime, utc=True)\n",
    "compliant=end-begin<np.timedelta64(2,'h') # true is compliant, false is not compliant"
   ]
  },
  {
   "cell_type": "code",
   "execution_count": 15,
   "metadata": {},
   "outputs": [],
   "source": [
    "payload=data['payload'].apply(lambda row:pd.Series(json.loads(row))) # convert payload dictionaries to columns\n",
    "visibility=data['visibility'].apply(lambda row:pd.Series(json.loads(row))) # convert visibility dictionaries to columns"
   ]
  },
  {
   "cell_type": "code",
   "execution_count": 66,
   "metadata": {},
   "outputs": [],
   "source": [
    "events=pd.DataFrame(payload.events[0])"
   ]
  },
  {
   "cell_type": "code",
   "execution_count": 65,
   "metadata": {},
   "outputs": [],
   "source": [
    "first_aware=pd.DataFrame(list(visibility.firstAware))"
   ]
  },
  {
   "cell_type": "code",
   "execution_count": 75,
   "metadata": {},
   "outputs": [
    {
     "data": {
      "text/plain": [
       "0                                           NaN\n",
       "1                                           NaN\n",
       "2       {'actual': '2019-05-21T08:33:43-04:00'}\n",
       "3                                           NaN\n",
       "4                                           NaN\n",
       "5                                           NaN\n",
       "6       {'actual': '2019-05-21T15:20:41-07:00'}\n",
       "7       {'actual': '2019-05-21T14:51:55-07:00'}\n",
       "8       {'actual': '2019-05-21T07:54:37-07:00'}\n",
       "9       {'actual': '2019-05-20T09:57:49-07:00'}\n",
       "10      {'actual': '2019-05-14T15:13:38-07:00'}\n",
       "11      {'actual': '2019-05-17T13:17:48-07:00'}\n",
       "12      {'actual': '2019-05-21T09:43:34-06:00'}\n",
       "13      {'actual': '2019-05-21T08:27:57-07:00'}\n",
       "14                                          NaN\n",
       "15                                          NaN\n",
       "16                                          NaN\n",
       "17                                          NaN\n",
       "18      {'actual': '2019-05-08T13:51:00-05:00'}\n",
       "19      {'actual': '2019-05-17T08:37:54-04:00'}\n",
       "20      {'actual': '2019-05-21T15:16:53-07:00'}\n",
       "21                                          NaN\n",
       "22                                          NaN\n",
       "23                                          NaN\n",
       "24                                          NaN\n",
       "25                                          NaN\n",
       "26                                          NaN\n",
       "27                                          NaN\n",
       "28                                          NaN\n",
       "29                                          NaN\n",
       "                         ...                   \n",
       "9970                                        NaN\n",
       "9971                                        NaN\n",
       "9972                                        NaN\n",
       "9973                                        NaN\n",
       "9974                                        NaN\n",
       "9975    {'actual': '2019-05-21T20:48:08-04:00'}\n",
       "9976    {'actual': '2019-04-12T11:27:38-04:00'}\n",
       "9977    {'actual': '2019-05-20T09:50:00-06:00'}\n",
       "9978    {'actual': '2019-05-21T09:57:00-06:00'}\n",
       "9979    {'actual': '2019-04-19T12:03:06-07:00'}\n",
       "9980                                        NaN\n",
       "9981                                        NaN\n",
       "9982                                        NaN\n",
       "9983                                        NaN\n",
       "9984                                        NaN\n",
       "9985                                        NaN\n",
       "9986                                        NaN\n",
       "9987                                        NaN\n",
       "9988    {'actual': '2019-05-21T18:48:04-06:00'}\n",
       "9989                                        NaN\n",
       "9990                                        NaN\n",
       "9991                                        NaN\n",
       "9992                                        NaN\n",
       "9993                                        NaN\n",
       "9994                                        NaN\n",
       "9995                                        NaN\n",
       "9996                                        NaN\n",
       "9997    {'actual': '2019-05-22T08:46:08+08:00'}\n",
       "9998    {'actual': '2019-05-21T07:03:00-06:00'}\n",
       "9999    {'actual': '2019-05-20T10:00:00-06:00'}\n",
       "Name: cpu, Length: 10000, dtype: object"
      ]
     },
     "execution_count": 75,
     "metadata": {},
     "output_type": "execute_result"
    }
   ],
   "source": [
    "visibility.columns.values\n",
    "visibility.cpu"
   ]
  },
  {
   "cell_type": "code",
   "execution_count": 4,
   "metadata": {},
   "outputs": [],
   "source": [
    "df=pd.concat([begin,payload,visibility,first_aware],axis=1)\n",
    "df=df.dropna(axis=1) # drop columns that have na values in them\n",
    "df=df.drop(['events','firstAware','etmsBranch','workBranch'],axis=1) # drop dict events, firstAware; drop dup etms, work\n",
    "df=df.loc[:,~df.columns.duplicated()] # drop dup columns"
   ]
  },
  {
   "cell_type": "code",
   "execution_count": 5,
   "metadata": {
    "scrolled": true
   },
   "outputs": [],
   "source": [
    "df['dateDT']=pd.to_datetime(df.dateCreate, utc=True)\n",
    "df['diffS']=(df.dateDT-df.beginTime).dt.total_seconds()\n",
    "df['beginY']=df.beginTime.dt.dayofyear\n",
    "df['beginW']=df.beginTime.dt.dayofweek\n",
    "df['beginH']=df.beginTime.dt.hour\n",
    "df['dateY']=df.dateDT.dt.dayofyear\n",
    "df['dateW']=df.dateDT.dt.dayofweek\n",
    "df['dateH']=df.dateDT.dt.hour"
   ]
  },
  {
   "cell_type": "code",
   "execution_count": 6,
   "metadata": {},
   "outputs": [],
   "source": [
    "too_sim=0.0003*len(df) # very similar values in a column\n",
    "too_dif=0.5*len(df) # very different values in a column\n",
    "for col in df.columns: # remove columns that have values that are too similar or too different\n",
    "    if df[col].nunique()<too_sim or df[col].nunique()>too_dif:\n",
    "        df.drop(col,inplace=True,axis=1)"
   ]
  },
  {
   "cell_type": "code",
   "execution_count": 7,
   "metadata": {},
   "outputs": [
    {
     "name": "stderr",
     "output_type": "stream",
     "text": [
      "C:\\Users\\chq-shal\\AppData\\Local\\Continuum\\anaconda3\\lib\\site-packages\\sklearn\\preprocessing\\data.py:645: DataConversionWarning: Data with input dtype uint8, int64, float64 were all converted to float64 by StandardScaler.\n",
      "  return self.partial_fit(X, y)\n",
      "C:\\Users\\chq-shal\\AppData\\Local\\Continuum\\anaconda3\\lib\\site-packages\\ipykernel_launcher.py:3: DataConversionWarning: Data with input dtype uint8, int64, float64 were all converted to float64 by StandardScaler.\n",
      "  This is separate from the ipykernel package so we can avoid doing imports until\n",
      "C:\\Users\\chq-shal\\AppData\\Local\\Continuum\\anaconda3\\lib\\site-packages\\ipykernel_launcher.py:4: DataConversionWarning: Data with input dtype uint8, int64, float64 were all converted to float64 by StandardScaler.\n",
      "  after removing the cwd from sys.path.\n"
     ]
    }
   ],
   "source": [
    "X_train,X_test,y_train,y_test=train_test_split(pd.get_dummies(df),compliant,random_state=0)\n",
    "scaler = StandardScaler().fit(X_train)\n",
    "X_train_scaled = scaler.transform(X_train)\n",
    "X_test_scaled = scaler.transform(X_test)"
   ]
  },
  {
   "cell_type": "code",
   "execution_count": null,
   "metadata": {
    "scrolled": true
   },
   "outputs": [],
   "source": [
    "from sklearn.ensemble import GradientBoostingClassifier\n",
    "# clf=GradientBoostingClassifier(max_depth=2,random_state=0)\n",
    "# grid_values = {'learning_rate': [0.001, 0.01, 0.05, 0.1, 1, 10]}\n",
    "# grid_clf_auc = GridSearchCV(clf, param_grid = grid_values, scoring = 'roc_auc')\n",
    "# grid_clf_auc.fit(X_train_scaled, y_train)\n",
    "# y_decision_fn_scores_auc = grid_clf_auc.decision_function(X_test_scaled)\n",
    "# print('Test set AUC: ', roc_auc_score(y_test, y_decision_fn_scores_auc))\n",
    "# print('Grid best parameter (max. AUC): ', grid_clf_auc.best_params_)\n",
    "# print('Grid best score (AUC): ', grid_clf_auc.best_score_)\n",
    "clf=GradientBoostingClassifier(learning_rate=1,max_depth=2,random_state=0) # build bradient boost model with learning rate=1\n",
    "gb_clf=clf.fit(X_train_scaled, y_train)\n",
    "gb_y_score=gb_clf.decision_function(X_test_scaled)\n",
    "gb_fpr, gb_tpr, _ = roc_curve(y_test, gb_y_score)\n",
    "gb_roc_auc = auc(gb_fpr, gb_tpr)\n",
    "gb_roc_auc"
   ]
  },
  {
   "cell_type": "code",
   "execution_count": 8,
   "metadata": {},
   "outputs": [
    {
     "ename": "NameError",
     "evalue": "name 'gb_clf' is not defined",
     "output_type": "error",
     "traceback": [
      "\u001b[1;31m---------------------------------------------------------------------------\u001b[0m",
      "\u001b[1;31mNameError\u001b[0m                                 Traceback (most recent call last)",
      "\u001b[1;32m<ipython-input-8-758c63f89eaa>\u001b[0m in \u001b[0;36m<module>\u001b[1;34m\u001b[0m\n\u001b[1;32m----> 1\u001b[1;33m \u001b[0mfeature\u001b[0m\u001b[1;33m=\u001b[0m\u001b[0mgb_clf\u001b[0m\u001b[1;33m.\u001b[0m\u001b[0mfeature_importances_\u001b[0m\u001b[1;33m\u001b[0m\u001b[1;33m\u001b[0m\u001b[0m\n\u001b[0m\u001b[0;32m      2\u001b[0m \u001b[0mpd\u001b[0m\u001b[1;33m.\u001b[0m\u001b[0mSeries\u001b[0m\u001b[1;33m(\u001b[0m\u001b[0mdata\u001b[0m\u001b[1;33m=\u001b[0m\u001b[0mfeature\u001b[0m\u001b[1;33m,\u001b[0m\u001b[0mindex\u001b[0m\u001b[1;33m=\u001b[0m\u001b[0mlist\u001b[0m\u001b[1;33m(\u001b[0m\u001b[0mX_train\u001b[0m\u001b[1;33m)\u001b[0m\u001b[1;33m)\u001b[0m\u001b[1;33m.\u001b[0m\u001b[0mnlargest\u001b[0m\u001b[1;33m(\u001b[0m\u001b[1;36m5\u001b[0m\u001b[1;33m)\u001b[0m\u001b[1;33m\u001b[0m\u001b[1;33m\u001b[0m\u001b[0m\n",
      "\u001b[1;31mNameError\u001b[0m: name 'gb_clf' is not defined"
     ]
    }
   ],
   "source": [
    "feature=gb_clf.feature_importances_\n",
    "pd.Series(data=feature,index=list(X_train)).nlargest(5)"
   ]
  },
  {
   "cell_type": "code",
   "execution_count": null,
   "metadata": {},
   "outputs": [],
   "source": [
    "from sklearn.neighbors import KNeighborsClassifier\n",
    "# clf = KNeighborsClassifier(n_jobs=-1)\n",
    "# grid_values = {'n_neighbors': list(range(1,11))}\n",
    "# grid_clf_auc = GridSearchCV(clf, param_grid = grid_values, scoring = 'roc_auc')\n",
    "# grid_clf_auc.fit(X_train_scaled, y_train)\n",
    "# y_decision_fn_scores_auc = grid_clf_auc.predict_proba(X_test_scaled)[:,1]\n",
    "# print('Test set AUC: ', roc_auc_score(y_test, y_decision_fn_scores_auc))\n",
    "# print('Grid best parameter (max. AUC): ', grid_clf_auc.best_params_)\n",
    "# print('Grid best score (AUC): ', grid_clf_auc.best_score_)\n",
    "clf=KNeighborsClassifier(n_neighbors=7,n_jobs=-1) # build knn model with neighbors=7\n",
    "knn_clf=clf.fit(X_train_scaled, y_train)\n",
    "knn_y_score=knn_clf.predict_proba(X_test_scaled)[:,1]\n",
    "knn_fpr, knn_tpr, _ = roc_curve(y_test, knn_y_score)\n",
    "knn_roc_auc = auc(knn_fpr, knn_tpr)\n",
    "knn_roc_auc"
   ]
  },
  {
   "cell_type": "code",
   "execution_count": 14,
   "metadata": {},
   "outputs": [
    {
     "name": "stderr",
     "output_type": "stream",
     "text": [
      "C:\\Users\\chq-shal\\AppData\\Local\\Continuum\\anaconda3\\lib\\site-packages\\sklearn\\linear_model\\logistic.py:433: FutureWarning: Default solver will be changed to 'lbfgs' in 0.22. Specify a solver to silence this warning.\n",
      "  FutureWarning)\n",
      "C:\\Users\\chq-shal\\AppData\\Local\\Continuum\\anaconda3\\lib\\site-packages\\sklearn\\linear_model\\logistic.py:1300: UserWarning: 'n_jobs' > 1 does not have any effect when 'solver' is set to 'liblinear'. Got 'n_jobs' = 8.\n",
      "  \" = {}.\".format(effective_n_jobs(self.n_jobs)))\n"
     ]
    },
    {
     "data": {
      "text/plain": [
       "0.8841912426238085"
      ]
     },
     "execution_count": 14,
     "metadata": {},
     "output_type": "execute_result"
    }
   ],
   "source": [
    "from sklearn.linear_model import LogisticRegression\n",
    "# clf = LogisticRegression(n_jobs=-1)\n",
    "# grid_values = {'C': [1,10,100,1000]}\n",
    "# grid_clf_auc = GridSearchCV(clf, param_grid = grid_values, scoring = 'roc_auc')\n",
    "# grid_clf_auc.fit(X_train_scaled, y_train)\n",
    "# y_decision_fn_scores_auc = grid_clf_auc.decision_function(X_test_scaled)\n",
    "# print('Test set AUC: ', roc_auc_score(y_test, y_decision_fn_scores_auc))\n",
    "# print('Grid best parameter (max. AUC): ', grid_clf_auc.best_params_)\n",
    "# print('Grid best score (AUC): ', grid_clf_auc.best_score_)\n",
    "clf=LogisticRegression(C=1,n_jobs=-1) # build logistic regression model with C=1\n",
    "lr_clf=clf.fit(X_train_scaled, y_train)\n",
    "lr_y_score=lr_clf.predict_proba(X_test_scaled)[:,1]\n",
    "lr_fpr, lr_tpr, _ = roc_curve(y_test, lr_y_score)\n",
    "lr_roc_auc = auc(lr_fpr, lr_tpr)\n",
    "lr_roc_auc"
   ]
  },
  {
   "cell_type": "code",
   "execution_count": 21,
   "metadata": {},
   "outputs": [
    {
     "data": {
      "text/plain": [
       "0.95677821773126"
      ]
     },
     "execution_count": 21,
     "metadata": {},
     "output_type": "execute_result"
    }
   ],
   "source": [
    "from sklearn.metrics import roc_auc_score\n",
    "from sklearn.ensemble import RandomForestClassifier\n",
    "# clf = RandomForestClassifier()\n",
    "# grid_values = {'n_estimators': [200, 700],'max_features': ['auto', 'sqrt', 'log2']}\n",
    "# grid_clf_auc = GridSearchCV(clf, param_grid = grid_values, scoring = 'roc_auc')\n",
    "# grid_clf_auc.fit(X_train_scaled, y_train)\n",
    "# y_decision_fn_scores_auc = grid_clf_auc.predict_proba(X_test_scaled)[:,1]\n",
    "# print('Test set AUC: ', roc_auc_score(y_test, y_decision_fn_scores_auc))\n",
    "# print('Grid best parameter (max. AUC): ', grid_clf_auc.best_params_)\n",
    "# print('Grid best score (AUC): ', grid_clf_auc.best_score_)\n",
    "clf=RandomForestClassifier(max_features='log2', n_estimators=700)\n",
    "rf_clf=clf.fit(X_train_scaled, y_train)\n",
    "rf_y_score=rf_clf.predict_proba(X_test_scaled)[:,1]\n",
    "rf_fpr, rf_tpr, _ = roc_curve(y_test, rf_y_score)\n",
    "rf_roc_auc = auc(rf_fpr, rf_tpr)\n",
    "rf_roc_auc"
   ]
  },
  {
   "cell_type": "code",
   "execution_count": 18,
   "metadata": {},
   "outputs": [
    {
     "data": {
      "text/plain": [
       "0.86274229457301"
      ]
     },
     "execution_count": 18,
     "metadata": {},
     "output_type": "execute_result"
    }
   ],
   "source": [
    "from sklearn.tree import DecisionTreeClassifier\n",
    "clf = DecisionTreeClassifier()\n",
    "dt_clf=clf.fit(X_train_scaled, y_train)\n",
    "dt_y_score=dt_clf.predict_proba(X_test_scaled)[:,1]\n",
    "dt_fpr, dt_tpr, _ = roc_curve(y_test, dt_y_score)\n",
    "dt_roc_auc = auc(dt_fpr, dt_tpr)\n",
    "dt_roc_auc"
   ]
  }
 ],
 "metadata": {
  "kernelspec": {
   "display_name": "Python 3",
   "language": "python",
   "name": "python3"
  },
  "language_info": {
   "codemirror_mode": {
    "name": "ipython",
    "version": 3
   },
   "file_extension": ".py",
   "mimetype": "text/x-python",
   "name": "python",
   "nbconvert_exporter": "python",
   "pygments_lexer": "ipython3",
   "version": "3.7.3"
  }
 },
 "nbformat": 4,
 "nbformat_minor": 2
}
