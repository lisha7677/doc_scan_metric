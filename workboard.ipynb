{
 "cells": [
  {
   "cell_type": "code",
   "execution_count": 1,
   "metadata": {
    "scrolled": true
   },
   "outputs": [],
   "source": [
    "import json\n",
    "import pandas as pd\n",
    "from pandas.io.json import json_normalize #package for flattening json in pandas df\n",
    "import numpy as np\n",
    "from sklearn.model_selection import train_test_split\n",
    "from sklearn.preprocessing import StandardScaler\n",
    "from sklearn.model_selection import GridSearchCV\n",
    "from sklearn.metrics import roc_auc_score\n",
    "from sklearn.metrics import roc_curve, auc\n",
    "with open('C:\\\\Users\\\\chq-shal\\\\Downloads\\\\projects_python\\\\project_workboard\\\\small3.json',encoding='utf-8') as d:\n",
    "    f=json.load(d)\n",
    "data=json_normalize(f)"
   ]
  },
  {
   "cell_type": "code",
   "execution_count": 7,
   "metadata": {
    "scrolled": true
   },
   "outputs": [
    {
     "data": {
      "text/plain": [
       "['beginTime', 'endTime', 'payload', 'scenarioBit', 'visibility']"
      ]
     },
     "execution_count": 7,
     "metadata": {},
     "output_type": "execute_result"
    }
   ],
   "source": [
    "list(data)"
   ]
  },
  {
   "cell_type": "code",
   "execution_count": 11,
   "metadata": {},
   "outputs": [
    {
     "data": {
      "text/plain": [
       "False    6009\n",
       "True     3991\n",
       "Name: endTime, dtype: int64"
      ]
     },
     "execution_count": 11,
     "metadata": {},
     "output_type": "execute_result"
    }
   ],
   "source": [
    "data.endTime.isnull().value_counts() # true is not compliant, false might be compliant or not"
   ]
  },
  {
   "cell_type": "code",
   "execution_count": 2,
   "metadata": {},
   "outputs": [
    {
     "data": {
      "text/plain": [
       "1        4304\n",
       "16384    4041\n",
       "8        1609\n",
       "16393      46\n",
       "Name: scenarioBit, dtype: int64"
      ]
     },
     "execution_count": 2,
     "metadata": {},
     "output_type": "execute_result"
    }
   ],
   "source": [
    "data.scenarioBit.value_counts()"
   ]
  },
  {
   "cell_type": "code",
   "execution_count": 3,
   "metadata": {},
   "outputs": [],
   "source": [
    "begin=pd.to_datetime(data.beginTime, utc=True)\n",
    "end=pd.to_datetime(data.endTime, utc=True)\n",
    "compliant=end-begin<np.timedelta64(2,'h') # true is compliant, false is not compliant"
   ]
  },
  {
   "cell_type": "code",
   "execution_count": 4,
   "metadata": {},
   "outputs": [
    {
     "data": {
      "text/plain": [
       "False    7798\n",
       "True     2202\n",
       "dtype: int64"
      ]
     },
     "execution_count": 4,
     "metadata": {},
     "output_type": "execute_result"
    }
   ],
   "source": [
    "compliant.value_counts()"
   ]
  },
  {
   "cell_type": "code",
   "execution_count": 12,
   "metadata": {},
   "outputs": [],
   "source": [
    "payload=data['payload'].apply(lambda row:pd.Series(json.loads(row))) # convert payload dictionaries to columns\n",
    "visibility=data['visibility'].apply(lambda row:pd.Series(json.loads(row))) # convert visibility dictionaries to columns"
   ]
  },
  {
   "cell_type": "code",
   "execution_count": 24,
   "metadata": {},
   "outputs": [
    {
     "data": {
      "text/plain": [
       "Index(['aggregateId', 'billToId', 'businessKey', 'branch', 'consignId',\n",
       "       'curStatus', 'dateCreate', 'dateRcvdCfit', 'dsptchCarrierId',\n",
       "       'etmsBranch', 'events', 'fcmFlag', 'fileType', 'holds', 'onHandRef',\n",
       "       'linkedShipment', 'pcsAct', 'pcsActType', 'pickupDeliverFlag',\n",
       "       'portOrigin', 'portDestin', 'revenueId', 'serviceLevel', 'serviceType',\n",
       "       'shipmentType', 'shipperId', 'shpmntRef', 'streamBit', 'typeOfGoods',\n",
       "       'vendorId', 'wgtAct', 'wgtDeclAct', 'workBranch', 'mode', 'brokerage',\n",
       "       'ourPaper', 'deliveryId', 'delivery', 'kill', 'perspective',\n",
       "       'dateBackby', 'portLoading', 'linkedShippingOrder', 'shipordRef',\n",
       "       'commodityDesc', 'rstrctCommItarFlag', 'exportClearance', 'hazrdSw',\n",
       "       'shipperName'],\n",
       "      dtype='object')"
      ]
     },
     "execution_count": 24,
     "metadata": {},
     "output_type": "execute_result"
    }
   ],
   "source": [
    "payload.columns"
   ]
  },
  {
   "cell_type": "code",
   "execution_count": 6,
   "metadata": {},
   "outputs": [],
   "source": [
    "events=pd.DataFrame(payload.events[0]) # is a json object"
   ]
  },
  {
   "cell_type": "code",
   "execution_count": 18,
   "metadata": {},
   "outputs": [
    {
     "data": {
      "text/plain": [
       "Index(['primaryId', 'level', 'billToId', 'businessKey', 'consignId',\n",
       "       'dsptchCarrierId', 'fileType', 'pickupDeliverFlag', 'portDestin',\n",
       "       'portOrigin', 'revenueId', 'serviceLevel', 'serviceType',\n",
       "       'shipmentType', 'shipperId', 'shpmntRef', 'typeOfGoods', 'vendorId',\n",
       "       'mode', 'na', 'tc', 'cutoffPrep', 'devn', 'documentsSatisfied', 'dsn',\n",
       "       'els', 'firstAware', 'frd', 'freightReceived', 'phd', 'sir',\n",
       "       'startPrep', 'dateBackby', 'cdp', 'cpu', 'dra', 'drr', 'sli', 'test',\n",
       "       'osd', 'commodityDesc', 'rstrctCommItarFlag', 'blpHb', 'puo', 'lkp',\n",
       "       'smp', 'ecs', 'evr', 'ntc', 'cln', 'exportClearance', 'afs', 'sfs',\n",
       "       'ecc', 'cek', 'hot', 'aue', 'frf', 'ega', 'shipperName', 'rud', 'ddn'],\n",
       "      dtype='object')"
      ]
     },
     "execution_count": 18,
     "metadata": {},
     "output_type": "execute_result"
    }
   ],
   "source": [
    "visibility.columns # milestone codes are json objects"
   ]
  },
  {
   "cell_type": "code",
   "execution_count": 65,
   "metadata": {},
   "outputs": [],
   "source": [
    "first_aware=pd.DataFrame(list(visibility.firstAware)) # is a json object"
   ]
  },
  {
   "cell_type": "code",
   "execution_count": 25,
   "metadata": {},
   "outputs": [],
   "source": [
    "df=pd.concat([begin,payload,visibility],axis=1)\n",
    "df=df.dropna(axis=1) # drop columns that have na values in them\n",
    "df=df.drop(['events','firstAware','etmsBranch','workBranch'],axis=1) # drop dict events, firstAware; drop dup etms, work\n",
    "df=df.loc[:,~df.columns.duplicated()] # drop dup columns"
   ]
  },
  {
   "cell_type": "code",
   "execution_count": 26,
   "metadata": {
    "scrolled": true
   },
   "outputs": [],
   "source": [
    "df['dateDT']=pd.to_datetime(df.dateCreate, utc=True)\n",
    "df['diffS']=(df.dateDT-df.beginTime).dt.total_seconds()\n",
    "df['beginY']=df.beginTime.dt.dayofyear\n",
    "df['beginW']=df.beginTime.dt.dayofweek\n",
    "df['beginH']=df.beginTime.dt.hour\n",
    "df['dateY']=df.dateDT.dt.dayofyear\n",
    "df['dateW']=df.dateDT.dt.dayofweek\n",
    "df['dateH']=df.dateDT.dt.hour"
   ]
  },
  {
   "cell_type": "code",
   "execution_count": 27,
   "metadata": {},
   "outputs": [],
   "source": [
    "too_sim=0.0003*len(df) # very similar values in a column\n",
    "too_dif=0.5*len(df) # very different values in a column\n",
    "for col in df.columns: # remove columns that have values that are too similar or too different\n",
    "    if df[col].nunique()<too_sim or df[col].nunique()>too_dif:\n",
    "        df.drop(col,inplace=True,axis=1)"
   ]
  },
  {
   "cell_type": "code",
   "execution_count": 30,
   "metadata": {},
   "outputs": [
    {
     "data": {
      "text/plain": [
       "branch          category\n",
       "curStatus       category\n",
       "portOrigin      category\n",
       "shipmentType    category\n",
       "mode            category\n",
       "brokerage       category\n",
       "kill            category\n",
       "diffS            float64\n",
       "beginY             int64\n",
       "beginW             int64\n",
       "beginH             int64\n",
       "dateY              int64\n",
       "dateW              int64\n",
       "dateH              int64\n",
       "dtype: object"
      ]
     },
     "execution_count": 30,
     "metadata": {},
     "output_type": "execute_result"
    }
   ],
   "source": [
    "df[['branch','curStatus','portOrigin','shipmentType','mode','brokerage','kill']]=df[['branch','curStatus','portOrigin','shipmentType','mode','brokerage','kill']].astype('category')\n",
    "df.dtypes"
   ]
  },
  {
   "cell_type": "code",
   "execution_count": 31,
   "metadata": {},
   "outputs": [
    {
     "name": "stderr",
     "output_type": "stream",
     "text": [
      "C:\\Users\\chq-shal\\AppData\\Local\\Continuum\\anaconda3\\lib\\site-packages\\sklearn\\preprocessing\\data.py:645: DataConversionWarning: Data with input dtype uint8, int64, float64 were all converted to float64 by StandardScaler.\n",
      "  return self.partial_fit(X, y)\n",
      "C:\\Users\\chq-shal\\AppData\\Local\\Continuum\\anaconda3\\lib\\site-packages\\ipykernel_launcher.py:3: DataConversionWarning: Data with input dtype uint8, int64, float64 were all converted to float64 by StandardScaler.\n",
      "  This is separate from the ipykernel package so we can avoid doing imports until\n",
      "C:\\Users\\chq-shal\\AppData\\Local\\Continuum\\anaconda3\\lib\\site-packages\\ipykernel_launcher.py:4: DataConversionWarning: Data with input dtype uint8, int64, float64 were all converted to float64 by StandardScaler.\n",
      "  after removing the cwd from sys.path.\n"
     ]
    }
   ],
   "source": [
    "X_train,X_test,y_train,y_test=train_test_split(pd.get_dummies(df),compliant,random_state=0)\n",
    "scaler = StandardScaler().fit(X_train)\n",
    "X_train_scaled = scaler.transform(X_train)\n",
    "X_test_scaled = scaler.transform(X_test)"
   ]
  },
  {
   "cell_type": "code",
   "execution_count": 32,
   "metadata": {
    "scrolled": true
   },
   "outputs": [
    {
     "data": {
      "text/plain": [
       "0.9305341981969364"
      ]
     },
     "execution_count": 32,
     "metadata": {},
     "output_type": "execute_result"
    }
   ],
   "source": [
    "from sklearn.ensemble import GradientBoostingClassifier\n",
    "# clf=GradientBoostingClassifier(max_depth=2,random_state=0)\n",
    "# grid_values = {'learning_rate': [0.001, 0.01, 0.05, 0.1, 1, 10]}\n",
    "# grid_clf_auc = GridSearchCV(clf, param_grid = grid_values, scoring = 'roc_auc')\n",
    "# grid_clf_auc.fit(X_train_scaled, y_train)\n",
    "# y_decision_fn_scores_auc = grid_clf_auc.decision_function(X_test_scaled)\n",
    "# print('Test set AUC: ', roc_auc_score(y_test, y_decision_fn_scores_auc))\n",
    "# print('Grid best parameter (max. AUC): ', grid_clf_auc.best_params_)\n",
    "# print('Grid best score (AUC): ', grid_clf_auc.best_score_)\n",
    "clf=GradientBoostingClassifier(learning_rate=1,max_depth=2,random_state=0) # build bradient boost model with learning rate=1\n",
    "gb_clf=clf.fit(X_train_scaled, y_train)\n",
    "gb_y_score=gb_clf.decision_function(X_test_scaled)\n",
    "gb_fpr, gb_tpr, _ = roc_curve(y_test, gb_y_score)\n",
    "gb_roc_auc = auc(gb_fpr, gb_tpr)\n",
    "gb_roc_auc"
   ]
  },
  {
   "cell_type": "code",
   "execution_count": 34,
   "metadata": {},
   "outputs": [
    {
     "data": {
      "text/plain": [
       "mode_4            0.352646\n",
       "branch_HKG        0.112139\n",
       "diffS             0.096293\n",
       "portOrigin_SFO    0.041666\n",
       "beginH            0.039340\n",
       "dtype: float64"
      ]
     },
     "execution_count": 34,
     "metadata": {},
     "output_type": "execute_result"
    }
   ],
   "source": [
    "feature=gb_clf.feature_importances_\n",
    "pd.Series(data=feature,index=list(X_train)).nlargest(5)"
   ]
  },
  {
   "cell_type": "code",
   "execution_count": 35,
   "metadata": {},
   "outputs": [
    {
     "data": {
      "text/plain": [
       "0.9566099525453268"
      ]
     },
     "execution_count": 35,
     "metadata": {},
     "output_type": "execute_result"
    }
   ],
   "source": [
    "from sklearn.metrics import roc_auc_score\n",
    "from sklearn.ensemble import RandomForestClassifier\n",
    "# clf = RandomForestClassifier()\n",
    "# grid_values = {'n_estimators': [200, 700],'max_features': ['auto', 'sqrt', 'log2']}\n",
    "# grid_clf_auc = GridSearchCV(clf, param_grid = grid_values, scoring = 'roc_auc')\n",
    "# grid_clf_auc.fit(X_train_scaled, y_train)\n",
    "# y_decision_fn_scores_auc = grid_clf_auc.predict_proba(X_test_scaled)[:,1]\n",
    "# print('Test set AUC: ', roc_auc_score(y_test, y_decision_fn_scores_auc))\n",
    "# print('Grid best parameter (max. AUC): ', grid_clf_auc.best_params_)\n",
    "# print('Grid best score (AUC): ', grid_clf_auc.best_score_)\n",
    "clf=RandomForestClassifier(max_features='log2', n_estimators=700)\n",
    "rf_clf=clf.fit(X_train_scaled, y_train)\n",
    "rf_y_score=rf_clf.predict_proba(X_test_scaled)[:,1]\n",
    "rf_fpr, rf_tpr, _ = roc_curve(y_test, rf_y_score)\n",
    "rf_roc_auc = auc(rf_fpr, rf_tpr)\n",
    "rf_roc_auc"
   ]
  },
  {
   "cell_type": "code",
   "execution_count": 36,
   "metadata": {},
   "outputs": [
    {
     "data": {
      "text/plain": [
       "diffS               0.113535\n",
       "beginH              0.094573\n",
       "dateH               0.084722\n",
       "shipmentType_OHA    0.048629\n",
       "beginY              0.047920\n",
       "dtype: float64"
      ]
     },
     "execution_count": 36,
     "metadata": {},
     "output_type": "execute_result"
    }
   ],
   "source": [
    "feature=rf_clf.feature_importances_\n",
    "pd.Series(data=feature,index=list(X_train)).nlargest(5)"
   ]
  },
  {
   "cell_type": "code",
   "execution_count": null,
   "metadata": {},
   "outputs": [],
   "source": [
    "from sklearn.neighbors import KNeighborsClassifier\n",
    "# clf = KNeighborsClassifier(n_jobs=-1)\n",
    "# grid_values = {'n_neighbors': list(range(1,11))}\n",
    "# grid_clf_auc = GridSearchCV(clf, param_grid = grid_values, scoring = 'roc_auc')\n",
    "# grid_clf_auc.fit(X_train_scaled, y_train)\n",
    "# y_decision_fn_scores_auc = grid_clf_auc.predict_proba(X_test_scaled)[:,1]\n",
    "# print('Test set AUC: ', roc_auc_score(y_test, y_decision_fn_scores_auc))\n",
    "# print('Grid best parameter (max. AUC): ', grid_clf_auc.best_params_)\n",
    "# print('Grid best score (AUC): ', grid_clf_auc.best_score_)\n",
    "clf=KNeighborsClassifier(n_neighbors=7,n_jobs=-1) # build knn model with neighbors=7\n",
    "knn_clf=clf.fit(X_train_scaled, y_train)\n",
    "knn_y_score=knn_clf.predict_proba(X_test_scaled)[:,1]\n",
    "knn_fpr, knn_tpr, _ = roc_curve(y_test, knn_y_score)\n",
    "knn_roc_auc = auc(knn_fpr, knn_tpr)\n",
    "knn_roc_auc"
   ]
  },
  {
   "cell_type": "code",
   "execution_count": 14,
   "metadata": {},
   "outputs": [
    {
     "name": "stderr",
     "output_type": "stream",
     "text": [
      "C:\\Users\\chq-shal\\AppData\\Local\\Continuum\\anaconda3\\lib\\site-packages\\sklearn\\linear_model\\logistic.py:433: FutureWarning: Default solver will be changed to 'lbfgs' in 0.22. Specify a solver to silence this warning.\n",
      "  FutureWarning)\n",
      "C:\\Users\\chq-shal\\AppData\\Local\\Continuum\\anaconda3\\lib\\site-packages\\sklearn\\linear_model\\logistic.py:1300: UserWarning: 'n_jobs' > 1 does not have any effect when 'solver' is set to 'liblinear'. Got 'n_jobs' = 8.\n",
      "  \" = {}.\".format(effective_n_jobs(self.n_jobs)))\n"
     ]
    },
    {
     "data": {
      "text/plain": [
       "0.8841912426238085"
      ]
     },
     "execution_count": 14,
     "metadata": {},
     "output_type": "execute_result"
    }
   ],
   "source": [
    "from sklearn.linear_model import LogisticRegression\n",
    "# clf = LogisticRegression(n_jobs=-1)\n",
    "# grid_values = {'C': [1,10,100,1000]}\n",
    "# grid_clf_auc = GridSearchCV(clf, param_grid = grid_values, scoring = 'roc_auc')\n",
    "# grid_clf_auc.fit(X_train_scaled, y_train)\n",
    "# y_decision_fn_scores_auc = grid_clf_auc.decision_function(X_test_scaled)\n",
    "# print('Test set AUC: ', roc_auc_score(y_test, y_decision_fn_scores_auc))\n",
    "# print('Grid best parameter (max. AUC): ', grid_clf_auc.best_params_)\n",
    "# print('Grid best score (AUC): ', grid_clf_auc.best_score_)\n",
    "clf=LogisticRegression(C=1,n_jobs=-1) # build logistic regression model with C=1\n",
    "lr_clf=clf.fit(X_train_scaled, y_train)\n",
    "lr_y_score=lr_clf.predict_proba(X_test_scaled)[:,1]\n",
    "lr_fpr, lr_tpr, _ = roc_curve(y_test, lr_y_score)\n",
    "lr_roc_auc = auc(lr_fpr, lr_tpr)\n",
    "lr_roc_auc"
   ]
  },
  {
   "cell_type": "code",
   "execution_count": 18,
   "metadata": {},
   "outputs": [
    {
     "data": {
      "text/plain": [
       "0.86274229457301"
      ]
     },
     "execution_count": 18,
     "metadata": {},
     "output_type": "execute_result"
    }
   ],
   "source": [
    "from sklearn.tree import DecisionTreeClassifier\n",
    "clf = DecisionTreeClassifier()\n",
    "dt_clf=clf.fit(X_train_scaled, y_train)\n",
    "dt_y_score=dt_clf.predict_proba(X_test_scaled)[:,1]\n",
    "dt_fpr, dt_tpr, _ = roc_curve(y_test, dt_y_score)\n",
    "dt_roc_auc = auc(dt_fpr, dt_tpr)\n",
    "dt_roc_auc"
   ]
  }
 ],
 "metadata": {
  "kernelspec": {
   "display_name": "Python 3",
   "language": "python",
   "name": "python3"
  },
  "language_info": {
   "codemirror_mode": {
    "name": "ipython",
    "version": 3
   },
   "file_extension": ".py",
   "mimetype": "text/x-python",
   "name": "python",
   "nbconvert_exporter": "python",
   "pygments_lexer": "ipython3",
   "version": "3.7.3"
  }
 },
 "nbformat": 4,
 "nbformat_minor": 2
}
